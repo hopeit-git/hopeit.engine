{
 "cells": [
  {
   "cell_type": "markdown",
   "metadata": {},
   "source": [
    "### Add OpenAPI to your first App\n",
    "\n",
    "In this document we will add to the Hopeit App created in the previous tutorial the abiliy to validate, and generate API docs through the Open API feature supported by hopeit.engine.\n",
    "\n",
    "Also you'll see how to access the web interface which hopeit.engine provides out of the box, to visualize the your API docs and interact with your endpoints directly.\n",
    "\n",
    "*You can use the same files created on the previous tutorial and jump to [Step 5: Adds OpenAPI json-schema validation and API docs]"
   ]
  },
  {
   "cell_type": "markdown",
   "metadata": {},
   "source": [
    "#### Step 1: Create virtual environment and install hopeit.engine\n",
    "\n",
    "Install hopeit.engine: [Installation instructions](../quickstart/install.html)"
   ]
  },
  {
   "cell_type": "markdown",
   "metadata": {},
   "source": [
    "#### Step 2: Create App configuration json file\n",
    "\n",
    "Create a file named `config.json` with the following contents\n",
    "\n",
    "\n",
    "```json\n",
    "{\n",
    "  \"app\": {\n",
    "    \"name\": \"my-app\",\n",
    "    \"version\": \"1.0\"\n",
    "  },\n",
    "  \"env\" : {},\n",
    "  \"events\": {\n",
    "    \"sample-endpoint\": {\n",
    "      \"type\": \"GET\"\n",
    "    }\n",
    "  }\n",
    "}\n",
    "```"
   ]
  },
  {
   "cell_type": "markdown",
   "metadata": {},
   "source": [
    "#### Step 3: Create a server config file\n",
    "\n",
    "Create a file named `server.json` with a basic configuration: for development\n",
    "we will set logging level to DEBUG so our app logs everything to the console.\n",
    "\n",
    "```json\n",
    "{\n",
    "    \"logging\": {\n",
    "        \"log_level\": \"DEBUG\"\n",
    "    }\n",
    "}\n",
    "\n",
    "```"
   ]
  },
  {
   "cell_type": "markdown",
   "metadata": {},
   "source": [
    "#### Step 4: Create the event handler\n",
    "1. Create a python module `myapp`, this is file named `__init__.py` inside a folder `my_app`\n",
    "\n",
    "```\n",
    "mkdir my_app\n",
    "cd my_app\n",
    "touch __init__.py\n",
    "```\n",
    "\n",
    "2. In the same folder, `my_app`, now create a python file `sample_endpoint.py` with the following code\n"
   ]
  },
  {
   "cell_type": "markdown",
   "metadata": {},
   "source": [
    "#### Step 5: Add OpenAPI json-schema validation and API docs\n",
    "\n",
    "To add Open API support to your endpoints, add a description header, and an `__api__` definition to your source file:\n"
   ]
  },
  {
   "cell_type": "code",
   "execution_count": 1,
   "metadata": {},
   "outputs": [],
   "source": [
    "\"\"\"\n",
    "API: sample-endpoint\n",
    "---------------------------------------------------\n",
    "Same as first app sample-endpoint now with Open API.\n",
    "\n",
    "This endpoint adds the capability of json-schema validation and API docs.\n",
    "[CommonMark syntax](http://spec.commonmark.org/)  MAY be used for rich text\n",
    "representation.\n",
    "\"\"\"\n",
    "\n",
    "from hopeit.app.api import event_api\n",
    "from hopeit.app.context import EventContext\n",
    "from hopeit.dataobjects import dataobject\n",
    "\n",
    "__steps__ = ['step1']\n",
    "\n",
    "\n",
    "@dataobject\n",
    "class MyObject:\n",
    "    text: str\n",
    "    length: int\n",
    "\n",
    "\n",
    "__api__ = event_api(\n",
    "    summary=\"Sample Endpoint\",\n",
    "    query_args=[('payload', str, \"provide a 'string' to create 'MyObject'\"),\n",
    "                ('number', int, \"number to be added to the 'length' of the payload of MyObject\")],\n",
    "    responses={\n",
    "        200: (MyObject, \"MyObject where name is the received string uppercased and number its length\")\n",
    "    }\n",
    ")\n",
    "\n",
    "\n",
    "async def step1(payload: str, context: EventContext, number: str) -> MyObject:\n",
    "    text = payload.upper()\n",
    "    length = len(payload) + int(number)\n",
    "    return MyObject(text, length)\n"
   ]
  },
  {
   "cell_type": "markdown",
   "metadata": {},
   "source": [
    "Adding the `__api__` entry, enables to define the specifications of `query_args`, as well as the different types of `responses` provided by the endpoint. For this pourpose, `event_api` method is provided as a convenient way to define Open API specification from your source code file. If for some reason this helper doesn't suit to your needs, you could allways write the entire definition of the endpoint as a python `dict` following the OpenAPI standard. *CommonMark syntax MAY be used for rich text representation.*\n"
   ]
  },
  {
   "cell_type": "markdown",
   "metadata": {},
   "source": [
    "Finally, in order to obtain the `openapi.json` file run from the root of the project:\n",
    "```bash\n",
    "export PYTHONPATH=./ && hopeit_openapi create --config-files=server.json,config.json --api-version=1.0.1 --title=\"Sample endpoint\" --description=\"sample-endpoint app with OpenAPI validation and API docs\" --output-file=api/openpai.json\n",
    "```\n",
    "\n",
    "Now you can run the app with OpenAPI enabled\n",
    "```bash\n",
    "export PYTHONPATH=./ && hopeit_server run --config-files=server.json,config.json --api-file=api/openpai.json\n",
    "```\n"
   ]
  },
  {
   "cell_type": "markdown",
   "metadata": {},
   "source": [
    "#### Step 6: Enable OpenAPI documentation page:\n",
    "\n",
    "We are almost there, this is the last step to finaly browse the docs in you favorite web browser.\n",
    "Add to the config file `server.json` the api section to set the path for the API docs.\n",
    "\n",
    "```json\n",
    "{\n",
    "    \"logging\": {\n",
    "        \"log_level\": \"DEBUG\"\n",
    "    },\n",
    "    \"api\": {\n",
    "        \"docs_path\": \"/api/docs\"\n",
    "    }\n",
    "}\n",
    "```\n",
    "\n",
    "Now you can run your app with json-schema validation and API docs enabled in `/api/docs`:\n",
    "\n",
    "```bash\n",
    "export PYTHONPATH=./ && hopeit_server ---files=server.json,config.json --api-file=api/openpai.json\n",
    "```\n",
    "\n",
    "Done! point your browser to http://localhost:8020/api/docs\n"
   ]
  },
  {
   "cell_type": "markdown",
   "metadata": {
    "jupyter": {
     "source_hidden": true
    }
   },
   "source": [
    "#### Step 6: Call the endpoint from API Docs page:\n",
    "\n",
    "#TODO: Add snapshot\n"
   ]
  },
  {
   "cell_type": "code",
   "execution_count": null,
   "metadata": {},
   "outputs": [],
   "source": []
  }
 ],
 "metadata": {
  "kernelspec": {
   "display_name": "hopeit.pcanto",
   "language": "python",
   "name": "python3"
  },
  "language_info": {
   "codemirror_mode": {
    "name": "ipython",
    "version": 3
   },
   "file_extension": ".py",
   "mimetype": "text/x-python",
   "name": "python",
   "nbconvert_exporter": "python",
   "pygments_lexer": "ipython3",
   "version": "3.9.15 (main, Nov 24 2022, 08:29:02) \n[Clang 14.0.6 ]"
  },
  "vscode": {
   "interpreter": {
    "hash": "a1ea8a69348d98d14bdb70cb54f7c1c067ae2c8721c9f3165568e7189c1fb75b"
   }
  }
 },
 "nbformat": 4,
 "nbformat_minor": 4
}
