{
 "cells": [
  {
   "cell_type": "markdown",
   "metadata": {},
   "source": [
    "### Create your first App\n",
    "\n",
    "In this tutorial we will create and run a Hopeit App or microservice that has a REST endpoint that returns and object built from provided query arguements."
   ]
  },
  {
   "cell_type": "markdown",
   "metadata": {},
   "source": [
    "#### Step 1: Create virtual environment and install hopeit.engine\n",
    "\n",
    "Install hopeit.engine: [Installation instructions](../quickstart/install.html)"
   ]
  },
  {
   "cell_type": "markdown",
   "metadata": {},
   "source": [
    "#### Step 2: Create App configuration json file\n",
    "\n",
    "Create a file named `config.json` with the following contents\n",
    "\n",
    "\n",
    "```json\n",
    "{\n",
    "  \"app\": {\n",
    "    \"name\": \"my-app\",\n",
    "    \"version\": \"1.0\"\n",
    "  },\n",
    "  \"env\" : {},\n",
    "  \"events\": {\n",
    "    \"sample-endpoint\": {\n",
    "      \"type\": \"GET\"\n",
    "    }\n",
    "  }\n",
    "}\n",
    "```"
   ]
  },
  {
   "cell_type": "markdown",
   "metadata": {},
   "source": [
    "#### Step 3: Create a server config file\n",
    "\n",
    "Create a file named `server.json` with a basic configuration: for development\n",
    "we will set logging level to DEBUG so our app logs everything to the console.\n",
    "\n",
    "```json\n",
    "{\n",
    "    \"logging\": {\n",
    "        \"log_level\": \"DEBUG\"\n",
    "    }\n",
    "}\n",
    "\n",
    "```"
   ]
  },
  {
   "cell_type": "markdown",
   "metadata": {},
   "source": [
    "#### Step 4: Create the event handler\n",
    "1. Create a python module `myapp`: create an empty file named `__init__.py` inside a folder `my_app`, i.e.:\n",
    "\n",
    "```\n",
    "mkdir my_app\n",
    "cd my_app\n",
    "touch __init__.py\n",
    "```\n",
    "\n",
    "2. In the same folder, `my_app`, now create a python file `sample_endpoint.py` with the following code\n"
   ]
  },
  {
   "cell_type": "code",
   "execution_count": 1,
   "metadata": {},
   "outputs": [],
   "source": [
    "from hopeit.app.context import EventContext\n",
    "from hopeit.dataobjects import dataobject\n",
    "\n",
    "__steps__ = ['step1']\n",
    "\n",
    "\n",
    "@dataobject\n",
    "class MyObject:\n",
    "    text: str\n",
    "    length: int\n",
    "\n",
    "\n",
    "async def step1(payload: str, context: EventContext) -> MyObject:\n",
    "    \"\"\"\n",
    "    Receives a string and returns MyObject where name is the received string\n",
    "    uppercased and number its length\n",
    "    \"\"\"\n",
    "    text = payload.upper()\n",
    "    length = len(payload)\n",
    "    return MyObject(text, length)\n"
   ]
  },
  {
   "cell_type": "markdown",
   "metadata": {},
   "source": [
    "#### Step 5: Run the server\n",
    "\n",
    "Go back to folder where `my_app` is located\n",
    "\n",
    "```\n",
    "cd ..\n",
    "```\n",
    "\n",
    "Run hopeit server using the following command:\n",
    "```\n",
    "export PYTHONPATH=. && hopeit_server run --config-files=server.json,config.json\n",
    "\n",
    "```\n",
    "\n",
    "Server should be running and listening on port 8020:\n",
    "```\n",
    "2020-06-25 16:35:52,120 | INFO | hopeit.engine 0.1.0 engine hostname 15394 | [hopeit.server.engine] Starting engine... | \n",
    "...\n",
    "2020-06-25 16:35:52,148 | INFO | hopeit.engine 0.1.0 engine hostname 15394 | [hopeit.server.engine] Starting app=my_app.1x0... | \n",
    "2020-06-25 16:35:52,150 | INFO | hopeit.engine 0.1.0 engine hostname 15394 | [hopeit.server.web] GET path=/api/my-app/1x0/sample-endpoint | \n",
    "======== Running on http://0.0.0.0:8020 ========\n",
    "(Press CTRL+C to quit)\n",
    "\n",
    "```"
   ]
  },
  {
   "cell_type": "markdown",
   "metadata": {},
   "source": [
    "#### Step 6: Call the endpoint\n",
    "\n",
    "Lets call the endpoint with a sample string as payload:\n",
    "\n",
    "```\n",
    "curl -i \"localhost:8020/api/my-app/1x0/sample-endpoint?payload=hopeit\"\n",
    "```\n",
    "\n",
    "We should get as response a JSON object representing and instance of `MyObject`\n",
    "\n",
    "```\n",
    "HTTP/1.1 200 OK\n",
    "X-Track-Operation-Id: 19d1311a-08b3-4fc4-ba96-b85e306e694b\n",
    "X-Track-Request-Id: 050e1e58-2e92-46a5-aff3-4f2ee3d4e2ec\n",
    "X-Track-Request-Ts: 2020-06-20T22:02:10.116858+00:00\n",
    "Content-Type: application/json\n",
    "Content-Length: 31\n",
    "Date: Sat, 20 Jun 2020 22:02:10 GMT\n",
    "\n",
    "{\"name\": \"HOPEIT\", \"number\": 6}%\n",
    "```\n",
    "\n",
    "We should see in the logs information about how the request was served successfully:\n",
    "```\n",
    "2020-06-25 16:38:25,528 | INFO | my-app 1.0 sample-endpoint hostname 15394 | START | track.operation_id=ca9aa13c-017b-4698-aade-cac9519d9ee7 | track.request_id=470cca74-4fb2-4e25-8da9-07acc9d0909f | track.request_ts=2020-06-25T16:38:25.528680+00:00\n",
    "2020-06-25 16:38:25,534 | INFO | my-app 1.0 sample-endpoint hostname 15394 | DONE | response.status=200 | metrics.duration=5.506 | track.operation_id=ca9aa13c-017b-4698-aade-cac9519d9ee7 | track.request_id=470cca74-4fb2-4e25-8da9-07acc9d0909f | track.request_ts=2020-06-25T16:38:25.528680+00:00\n",
    "```\n"
   ]
  },
  {
   "cell_type": "markdown",
   "metadata": {},
   "source": [
    "#### Basic terminology\n",
    "- **App**: is the service we just created consisting of a configuration file plus a python module `my_app`.\n",
    "- **Event**: is the basic execution unit that is triggered when an endpoint is invoked, or a object is received from a stream. Our event is configured under `events` section in `config.json` and implemented in `sample_endpoint.py` file.\n",
    "- **Server**: is the instance of the microservice that is run using a server and one or many apps configuration files, plus their implementing modules. Notice that a service can consist of one or more Apps running under the same process."
   ]
  },
  {
   "cell_type": "markdown",
   "metadata": {},
   "source": [
    "#### What we have done so far?\n",
    "\n",
    "We basically created a very basic microservice, with a HTTTP endpoint, `/api/my-app/1x0/sample-endpoint`\n",
    "that receives a query argument called `payload` and returns an JSON object containing two fields\n",
    "`text` and `length`.\n",
    "\n",
    "What *hopeit.engine* did for us:\n",
    "\n",
    "- Registered our python file `sample_endpoint.py` as the handler for the route ``/api/my-app/1x0/sample-endpoint`\n",
    "- Runs our (micro)service backed by `aiohttp`\n",
    "- Maps and validate the data types for the query arguments\n",
    "- Maps and validate data types, between our data objects `MyObject` and the JSON response sent back\n",
    "- Adds logging to our service\n",
    "- Added a `request_id`, `operation_id` and request timestamp thet are automatically logged and returned in the response. Hopeit.engine will also track requests ids among many different events if we use distributed processing via STREAMS (* see tutorials below).\n",
    "- Compute execution metrics for the calls to the endpoint, metrics are logged by default.\n"
   ]
  },
  {
   "cell_type": "markdown",
   "metadata": {},
   "source": [
    "#### What's next?\n",
    "\n",
    "These are just the basics, in the next tutorials you will see:\n",
    "\n",
    "-  [Add Open API specification to your service](02-open-api.html)\n",
    "-  [Support GET and POST endpoints](03-get-post.html)\n",
    "-  [Add authentication to our service](04-auth.html)\n",
    "-  [Send data to a STREAM, backed by Redis and process the objects asynchronously](05-streams.html)\n",
    "-  [Start a process that run continuously or on demand as a SERVICE](06-service.html)\n",
    "-  [Run multiple instances of your microservice in parallel, and how to scale up](07-scaleup.html)\n",
    "-  [Perform distributed data processing using multiple instances in multiple nodes, Redis and STREAM events](08-distributed.html)"
   ]
  },
  {
   "cell_type": "code",
   "execution_count": null,
   "metadata": {},
   "outputs": [],
   "source": []
  }
 ],
 "metadata": {
  "kernelspec": {
   "display_name": "hopeit.pcanto",
   "language": "python",
   "name": "python3"
  },
  "language_info": {
   "codemirror_mode": {
    "name": "ipython",
    "version": 3
   },
   "file_extension": ".py",
   "mimetype": "text/x-python",
   "name": "python",
   "nbconvert_exporter": "python",
   "pygments_lexer": "ipython3",
   "version": "3.9.15 (main, Nov 24 2022, 08:29:02) \n[Clang 14.0.6 ]"
  },
  "vscode": {
   "interpreter": {
    "hash": "a1ea8a69348d98d14bdb70cb54f7c1c067ae2c8721c9f3165568e7189c1fb75b"
   }
  }
 },
 "nbformat": 4,
 "nbformat_minor": 4
}
